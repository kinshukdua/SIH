{
 "cells": [
  {
   "cell_type": "code",
   "execution_count": 162,
   "metadata": {},
   "outputs": [
    {
     "data": {
      "text/plain": [
       "<folium.map.LayerControl at 0x1a696084220>"
      ]
     },
     "execution_count": 162,
     "metadata": {},
     "output_type": "execute_result"
    }
   ],
   "source": [
    "from glob import glob\n",
    "import numpy as np\n",
    "import folium\n",
    "from folium import plugins\n",
    "from folium.plugins import HeatMap\n",
    "\n",
    "lon, lat = 80.182434, 13.055712\n",
    "zoom_start = 5\n",
    "\n",
    "\n",
    "data = (\n",
    "    np.random.normal(size=(150, 3)) *\n",
    "    np.array([[0.0005, 0.0005, 0.0005]]) +\n",
    "    np.array([[lat, lon, 0.1]])\n",
    ").tolist()\n",
    "m = folium.Map([lat, lon], zoom_start=25)\n",
    "\n",
    "HeatMap(data).add_to(folium.FeatureGroup(name='Heat Map').add_to(m))\n",
    "folium.LayerControl().add_to(m)\n"
   ]
  },
  {
   "cell_type": "code",
   "execution_count": 163,
   "metadata": {},
   "outputs": [],
   "source": [
    "\n",
    "names = [\"Kinshuk\", \"Jayit\", \"Ishita\", \"Debayudh\", \"Saadhikha\", \"Rajashri\"]\n",
    "types = [\"Firefighter\", \"Rescuer\", \"Firefighter\", \"Firefighter\", \"Volunteer\", \"Volunteer\" ]\n",
    "def popup_html(row):\n",
    "    encoded = base64.b64encode(open('download.png', 'rb').read())\n",
    "    html = '<img width=\"100\" src=\"data:image/png;base64,{}\">'.format\n",
    "    img = html(encoded.decode('UTF-8'))\n",
    "    i = row\n",
    "    institution_name=names[row]\n",
    "    institution_url=\"#\"\n",
    "    institution_img=img\n",
    "    institution_type = types[row]\n",
    "    city_state = \"Chennai\"               \n",
    "    admission_rate = \"5 Hrs\"\n",
    "    left_col_color = \"#3e95b5\"\n",
    "    right_col_color = \"#f2f9ff\"\n",
    "    \n",
    "    html = \"\"\"\n",
    "<!DOCTYPE html>\n",
    "<html>\n",
    "\n",
    "<center>\"\"\" + institution_img + \"\"\"</center>\n",
    "\n",
    "<center><h4 style=\"margin-bottom:5\"; width=\"200px\">{}</h4>\"\"\".format(institution_name) + \"\"\"</center>\n",
    "\n",
    "<center><a href=\\\"\"\"\" + institution_url + \"\"\"\\\">Check status</a></center>\n",
    "\n",
    "<center> <table style=\"height: 100px; width: 180px;\">\n",
    "<tbody>\n",
    "<tr>\n",
    "<td style=\"background-color: \"\"\"+ left_col_color +\"\"\";\"><span style=\"color: #ffffff;\">Designation</span></td>\n",
    "<td style=\"width: 100px;background-color: \"\"\"+ right_col_color +\"\"\";\">\"\"\"+institution_type + \"\"\"</td>\n",
    "</tr>\n",
    "\n",
    "<tr>\n",
    "<td style=\"background-color: \"\"\"+ left_col_color +\"\"\";\"><span style=\"color: #ffffff;\">City</span></td>\n",
    "<td style=\"width: 100px;background-color: \"\"\"+ right_col_color +\"\"\";\">{}</td>\"\"\".format(city_state) + \"\"\"\n",
    "</tr>\n",
    "\n",
    "<tr>\n",
    "<td style=\"background-color: \"\"\"+ left_col_color +\"\"\";\"><span style=\"color: #ffffff;\">Worked For </span></td>\n",
    "<td style=\"width: 100px;background-color: \"\"\"+ right_col_color +\"\"\";\">{}</td>\"\"\".format(admission_rate) + \"\"\"\n",
    "</tr>\n",
    "\n",
    "</html>\n",
    "\"\"\"\n",
    "    return html"
   ]
  },
  {
   "cell_type": "code",
   "execution_count": 168,
   "metadata": {},
   "outputs": [],
   "source": [
    "import base64\n",
    "from folium import IFrame\n",
    "\n",
    "def create_icon_html(n):\n",
    "\n",
    "    return (\"<style>\"\n",
    "    \"  body {\"\n",
    "    \"    background: #e6e6e6;\"\n",
    "    \"  }\"\n",
    "\n",
    "    \"  .pin {\"\n",
    "    \"  border-style: solid;\"\n",
    "    \"    margin-right: 100px;\"\n",
    "    \"    width: 30px;\"\n",
    "    \"    height: 30px;\"\n",
    "    \"    border-radius: 50\\% 50\\% 50\\% 0;\"\n",
    "    \"    background: #AF0000;\"\n",
    "    \"    transform: rotate(-45deg);\"\n",
    "    \"    color: white;\"\n",
    "    \"    display: flex;\"\n",
    "    \"    justify-content: center;\"\n",
    "    \"    align-items: center;\"\n",
    "    \"  }\"\n",
    "\n",
    "    \"  .pin span {\"\n",
    "    \"    transform: rotate(45deg);\"\n",
    "    \"  }\"\n",
    "    \"  </style>\"\n",
    "    f\"  <div class='pin'><span>{n}</span></div>\")\n",
    "\n",
    "c = 0\n",
    "for i in sorted(data, key = lambda x: x[-1],reverse=True)[:6]:\n",
    "    folium.Marker(\n",
    "      location=[i[0],i[1]],\n",
    "      popup = folium.Popup(folium.Html(popup_html(c), script=True), max_width=200),\n",
    "      icon=folium.DivIcon(html=create_icon_html(names[c][0]))\n",
    "    ).add_to(m)\n",
    "    c +=1\n",
    "m.save(\"map.html\")"
   ]
  },
  {
   "cell_type": "code",
   "execution_count": null,
   "metadata": {},
   "outputs": [],
   "source": []
  },
  {
   "cell_type": "code",
   "execution_count": null,
   "metadata": {},
   "outputs": [],
   "source": []
  }
 ],
 "metadata": {
  "interpreter": {
   "hash": "f77dfe95bf9ff82e1ec3cd86f2dca57e21df9927f53074fceb57cb9c90277a69"
  },
  "kernelspec": {
   "display_name": "Python 3.8.10 64-bit",
   "language": "python",
   "name": "python3"
  },
  "language_info": {
   "codemirror_mode": {
    "name": "ipython",
    "version": 3
   },
   "file_extension": ".py",
   "mimetype": "text/x-python",
   "name": "python",
   "nbconvert_exporter": "python",
   "pygments_lexer": "ipython3",
   "version": "3.8.10"
  },
  "orig_nbformat": 4
 },
 "nbformat": 4,
 "nbformat_minor": 2
}
